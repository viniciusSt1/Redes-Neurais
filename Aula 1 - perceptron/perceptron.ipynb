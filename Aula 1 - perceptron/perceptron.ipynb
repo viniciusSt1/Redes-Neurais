{
  "nbformat": 4,
  "nbformat_minor": 0,
  "metadata": {
    "colab": {
      "provenance": []
    },
    "kernelspec": {
      "name": "python3",
      "display_name": "Python 3"
    },
    "language_info": {
      "name": "python"
    }
  },
  "cells": [
    {
      "cell_type": "markdown",
      "source": [
        "# Fazendo o perceptron\n",
        "**Para simular portar lógicas and e or**\n",
        "\n",
        "1.Definir as entradas   \n",
        "2.Definir as saidas   \n",
        "3.Definir o vetor de pesos   \n",
        "4.Definir o vetor de saidas calculadas   \n",
        "5.Soma ponderada x até o tamanho da entrada   \n",
        "6.Limiar (manualmente)   \n",
        "7.Definir vetor para guardar os erros\n"
      ],
      "metadata": {
        "id": "XPtrPjCoD7cT"
      }
    },
    {
      "cell_type": "code",
      "source": [
        "def perceptron(x,y,z,t,eta):\n",
        "  #3.Definir o vetor de pesos\n",
        "  w = np.zeros(len(x[0])) #Iniciando todos pesos com 0\n",
        "\n",
        "  #4.Definir o vetor de saidas calculadas\n",
        "  y_saida = np.ones(len(y))     #declarando apenas\n",
        "\n",
        "  #Array de erros\n",
        "  error = np.ones(len(y)) #Somente para declarar\n",
        "\n",
        "  n=0\n",
        "  J = []\n",
        "\n",
        "  while n<t:#Épocas\n",
        "    for i in range(0,len(x)):   #4 entradas -> for para conjunto de entradas i desse neuronio \n",
        "      #Feed Forward\n",
        "      #5.Soma ponderada x até o tamanho da entrada\n",
        "      f = np.dot(x[i],w)    #combinador linear para conjunto de entradas i desse neuronio\n",
        "\n",
        "      #condição da função de ativação (step function z=1)\n",
        "      if f<z:\n",
        "        ylimiar = 0\n",
        "      else:\n",
        "        ylimiar = 1\n",
        "\n",
        "      y_saida[i] = ylimiar\n",
        "\n",
        "      #Calcular erros e atualizar pesos\n",
        "      for j in range(0,len(w)):\n",
        "        w[j] = w[j] + eta*x[i][j]*(y[i] - ylimiar) #w = w + aprendizagem*entrada*erro\n",
        "\n",
        "    for i in range(0,len(y)):\n",
        "      error[i] = (y[i]-y_saida[i])**2\n",
        "    J.append(0.5*np.sum(error)) #Um número associado ao erro para cada época\n",
        "\n",
        "    n+=1\n",
        "\n",
        "  return w, J\n"
      ],
      "metadata": {
        "id": "NXtfphPmOK4v"
      },
      "execution_count": null,
      "outputs": []
    },
    {
      "cell_type": "code",
      "execution_count": null,
      "metadata": {
        "colab": {
          "base_uri": "https://localhost:8080/"
        },
        "id": "cgHy7yuLD5pK",
        "outputId": "a35d5005-e4fb-433e-b76a-f9956940e90e"
      },
      "outputs": [
        {
          "output_type": "execute_result",
          "data": {
            "text/plain": [
              "(array([0.5, 0.5]), [0.5, 0.0, 0.0, 0.0, 0.0, 0.0, 0.0, 0.0, 0.0, 0.0])"
            ]
          },
          "metadata": {},
          "execution_count": 20
        }
      ],
      "source": [
        "#Importando bibliotecas\n",
        "import numpy as np\n",
        "\n",
        "#Informações necessárias x (entrada), y (resultado desejado), z (limiar), eta (taxa de aprendizagem), t (quantidade de iterações)\n",
        "\n",
        "#1.Definir as entradas\n",
        "x = [[0.,0.],[0.,1.],[1.,0.],[1.,1.]]\n",
        "\n",
        "#2.Definir as saidas\n",
        "y1 = [0.,0.,0.,1.] #para and\n",
        "y2 = [0.,1.,1.,1.] #para or\n",
        "\n",
        "z=1.\n",
        "eta=0.5\n",
        "t=10\n",
        "\n",
        "perceptron(x,y1,z,t,eta)  #aprendizado"
      ]
    },
    {
      "cell_type": "code",
      "source": [
        "import numpy as np\n",
        "x = [1,2,3]\n",
        "y = [5,5,5]\n",
        "np.dot(x,y)"
      ],
      "metadata": {
        "id": "tVAJtwNSnaZS",
        "colab": {
          "base_uri": "https://localhost:8080/"
        },
        "outputId": "5bdb22cd-5139-4d47-c916-e71b4a487472"
      },
      "execution_count": null,
      "outputs": [
        {
          "output_type": "execute_result",
          "data": {
            "text/plain": [
              "30"
            ]
          },
          "metadata": {},
          "execution_count": 10
        }
      ]
    }
  ]
}